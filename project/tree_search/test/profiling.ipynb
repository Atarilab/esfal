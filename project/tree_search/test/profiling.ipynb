{
 "cells": [
  {
   "cell_type": "code",
   "execution_count": 2,
   "metadata": {},
   "outputs": [],
   "source": [
    "import numpy as np\n",
    "import matplotlib.pyplot as plt\n",
    "\n",
    "def ccw(A: np.ndarray, B: np.ndarray, C: np.ndarray) -> bool:\n",
    "    return (C[1]-A[1]) * (B[0]-A[0]) > (B[1]-A[1]) * (C[0]-A[0])\n",
    "\n",
    "def intersect(\n",
    "    A: np.ndarray,\n",
    "    B: np.ndarray,\n",
    "    C: np.ndarray,\n",
    "    D: np.ndarray) -> bool:\n",
    "    \"\"\"\n",
    "    True if lines AB-CD intersect.\n",
    "    \"\"\"\n",
    "    return ccw(A,C,D) != ccw(B,C,D) and ccw(A,B,C) != ccw(A,B,D)\n",
    "      \n",
    "def ccw_batched(A: np.ndarray, B: np.ndarray, C: np.ndarray) -> bool:\n",
    "    CA = C-A\n",
    "    BA = B-A\n",
    "    return (CA[:,:,1]) * (BA[:,:,0]) > (BA[:,:,1]) * (CA[:,:,0])\n",
    "\n",
    "def intersect_batched(\n",
    "    A: np.ndarray,\n",
    "    B: np.ndarray,\n",
    "    C: np.ndarray,\n",
    "    D: np.ndarray) -> bool:\n",
    "    \"\"\"\n",
    "    True if lines AB-CD intersect.\n",
    "    \"\"\"\n",
    "    return (\n",
    "        (ccw_batched(A,C,D) != ccw_batched(B,C,D)) &\n",
    "        (ccw_batched(A,B,C) != ccw_batched(A,B,D))\n",
    "        )\n",
    "      \n",
    "def quad_batched(\n",
    "    A: np.ndarray,\n",
    "    B: np.ndarray,\n",
    "    C: np.ndarray,\n",
    "    D: np.ndarray) -> bool:\n",
    "    \"\"\"\n",
    "    True if lines ABCD \n",
    "    \"\"\"\n",
    "    c1 = intersect_batched(A, B, C, D)\n",
    "    c2 = intersect_batched(B, C, D, A)\n",
    "    # print(c1)\n",
    "    # print(c2)\n",
    "    return (c1 | c2)\n",
    "\n",
    "def quad_batched_opt(\n",
    "    A: np.ndarray,\n",
    "    B: np.ndarray,\n",
    "    C: np.ndarray,\n",
    "    D: np.ndarray) -> bool:\n",
    "    \"\"\"\n",
    "    True if lines ABCD \n",
    "    \"\"\"\n",
    "    \n",
    "    D_A = D - A\n",
    "    D_B = D - B\n",
    "    C_A = C - A\n",
    "    C_B = C - B\n",
    "    B_A = B - A\n",
    "    D_C = D - C\n",
    "    B_C = - C_B\n",
    "            \n",
    "    # Counter Clockwise\n",
    "    ccw_ACD = (D_A[:, :, 1] * C_A[:, :, 0] > C_A[:, :, 1] * D_A[:, :, 0])\n",
    "    ccw_BCD = (D_B[:, :, 1] * C_B[:, :, 0] > C_B[:, :, 1] * D_B[:, :, 0])\n",
    "    ccw_ABC = (C_A[:, :, 1] * B_A[:, :, 0] > B_A[:, :, 1] * C_A[:, :, 0])\n",
    "    ccw_ABD = (D_A[:, :, 1] * B_A[:, :, 0] > B_A[:, :, 1] * D_A[:, :, 0])\n",
    "    ccw_CBD = (D_C[:, :, 1] * B_C[:, :, 0] > B_C[:, :, 1] * D_C[:, :, 0])\n",
    "    ccw_ACB = (B_A[:, :, 1] * C_A[:, :, 0] > C_A[:, :, 1] * B_A[:, :, 0])\n",
    "    \n",
    "    # Checks\n",
    "    check1 = (ccw_ACD != ccw_BCD) & (ccw_ABC != ccw_ABD)\n",
    "    check2 = (ccw_ABD != ccw_CBD) & (ccw_ACB != ccw_ACD)\n",
    "\n",
    "    res = (check1 | check2).squeeze()\n",
    "    return res"
   ]
  },
  {
   "cell_type": "code",
   "execution_count": 55,
   "metadata": {},
   "outputs": [
    {
     "name": "stdout",
     "output_type": "stream",
     "text": [
      "(1, 4, 3)\n"
     ]
    },
    {
     "data": {
      "image/png": "[encoded data removed]",
      "text/plain": [
       "<Figure size 640x480 with 1 Axes>"
      ]
     },
     "metadata": {},
     "output_type": "display_data"
    },
    {
     "name": "stdout",
     "output_type": "stream",
     "text": [
      "[[False]]\n"
     ]
    }
   ],
   "source": [
    "ABCD = np.array([[[ 0.1934,      0.142,       0.02519415],\n",
    "  [ 0.1934,     -0.142,       0.02519415],\n",
    "  [-0.1934,      0.142,       0.02519415],\n",
    "  [-0.1934,     -0.142,       0.02519415],]])\n",
    "print(ABCD.shape)\n",
    "ABCD = ABCD.reshape((4, 1, 3))\n",
    "A,B,C,D = np.split(ABCD, 4, axis=0)\n",
    "\n",
    "BCAD = np.concatenate([A, C, B, D])\n",
    "\n",
    "plt.plot(ABCD[:2, 0, 0], ABCD[:2, 0, 1], ABCD[2:, 0, 0], ABCD[2:, 0, 1], marker=\"o\", c='r')\n",
    "plt.plot(BCAD[:2, 0, 0], BCAD[:2, 0, 1], BCAD[2:, 0, 0], BCAD[2:, 0, 1], marker=\"o\", c='k')\n",
    "plt.show()\n",
    "\n",
    "res = intersect_batched(A, B, C, D) | intersect_batched(A, C, B, D)\n",
    "print(res)"
   ]
  },
  {
   "cell_type": "code",
   "execution_count": 25,
   "metadata": {},
   "outputs": [
    {
     "name": "stdout",
     "output_type": "stream",
     "text": [
      "73.1 µs ± 128 ns per loop (mean ± std. dev. of 7 runs, 10,000 loops each)\n",
      "11.3 ms ± 276 µs per loop (mean ± std. dev. of 7 runs, 100 loops each)\n"
     ]
    }
   ],
   "source": [
    "ABCD = np.random.rand(8, 3)\n",
    "A,B,C,D = np.split(ABCD, 4)\n",
    "\n",
    "N = 1200\n",
    "\n",
    "def f1():\n",
    "    ABCD = np.random.rand(4, N, 3)\n",
    "    A,B,C,D = np.split(ABCD, 4)\n",
    "\n",
    "    res = intersect_batched(A[:, :2], B[:, :2], C[:, :2], D[:, :2])\n",
    "    return res\n",
    "\n",
    "def f2():\n",
    "    res = []\n",
    "    for _ in range(N):\n",
    "        ABCD = np.random.rand(4, 2)\n",
    "        A,B,C,D = np.split(ABCD, 4)\n",
    "\n",
    "        r = intersect(A[0], B[0], C[0], D[0])\n",
    "        res.append(r)\n",
    "        \n",
    "    return res\n",
    " \n",
    "%timeit f1()\n",
    "%timeit f2()\n"
   ]
  },
  {
   "cell_type": "code",
   "execution_count": 56,
   "metadata": {},
   "outputs": [
    {
     "name": "stdout",
     "output_type": "stream",
     "text": [
      "79.2 µs ± 920 ns per loop (mean ± std. dev. of 7 runs, 10,000 loops each)\n",
      "61.9 µs ± 423 ns per loop (mean ± std. dev. of 7 runs, 10,000 loops each)\n"
     ]
    }
   ],
   "source": [
    "\n",
    "N = 800\n",
    "\n",
    "def f3():\n",
    "    ABCD = np.random.rand(4, N, 2)\n",
    "    A,B,C,D = np.split(ABCD, 4)\n",
    "    \n",
    "    res = quad_batched(A, B, C, D)\n",
    "    return res\n",
    "\n",
    "def f4():\n",
    "    ABCD = np.random.rand(4, N, 2)\n",
    "    A,B,C,D = np.split(ABCD, 4)\n",
    "    \n",
    "    res = quad_batched_opt(A, B, C, D)\n",
    "    return res\n",
    "\n",
    "%timeit f3()\n",
    "%timeit f4()"
   ]
  },
  {
   "cell_type": "code",
   "execution_count": 57,
   "metadata": {},
   "outputs": [
    {
     "name": "stdout",
     "output_type": "stream",
     "text": [
      "(1, 4, 3)\n",
      "False\n"
     ]
    }
   ],
   "source": [
    "ABCD = np.array([[[ 0.1934,      0.142,       0.02519415],\n",
    "  [ 0.1934,     -0.142,       0.02519415],\n",
    "  [-0.1934,      0.142,       0.02519415],\n",
    "  [-0.1934,     -0.142,       0.02519415],]])\n",
    "print(ABCD.shape)\n",
    "ABCD = ABCD.reshape((4, 1, 3))\n",
    "\n",
    "A,B,C,D = np.split(ABCD, 4, axis=0)\n",
    "\n",
    "res = quad_batched_opt(A, B, C, D)\n",
    "print(res)\n"
   ]
  },
  {
   "cell_type": "code",
   "execution_count": 95,
   "metadata": {},
   "outputs": [
    {
     "name": "stdout",
     "output_type": "stream",
     "text": [
      "10.3 ns ± 0.0417 ns per loop (mean ± std. dev. of 7 runs, 100,000,000 loops each)\n",
      "10.4 ns ± 0.0929 ns per loop (mean ± std. dev. of 7 runs, 100,000,000 loops each)\n"
     ]
    }
   ],
   "source": [
    "N = 1000\n",
    "data = [(bool(np.random.randint(2)), np.random.random(18)) for _ in range(N)]\n",
    "\n",
    "def f6():\n",
    "    bool_list, array_list = zip(*data)\n",
    "    bool_array = np.array(bool_list, dtype=bool)\n",
    "    array = np.array(array_list)\n",
    "    array = array[bool_array]\n",
    "    \n",
    "    return bool_array, array\n",
    "\n",
    "def f7():\n",
    "    # Split into two separate lists using list comprehensions\n",
    "    bool_list = [item[0] for item in data]\n",
    "    array_list = [item[1] for item in data if item[0]]\n",
    "\n",
    "    # Convert the lists to NumPy arrays\n",
    "    bool_array = np.array(bool_list)\n",
    "    array = np.array(array_list)\n",
    "    \n",
    "    return bool_array, array\n",
    "\n",
    "\n",
    "%timeit f6\n",
    "%timeit f7"
   ]
  },
  {
   "cell_type": "markdown",
   "metadata": {},
   "source": []
  },
  {
   "cell_type": "code",
   "execution_count": 21,
   "metadata": {},
   "outputs": [
    {
     "name": "stdout",
     "output_type": "stream",
     "text": [
      "3.1 ms ± 5.99 µs per loop (mean ± std. dev. of 7 runs, 100 loops each)\n"
     ]
    },
    {
     "ename": "ValueError",
     "evalue": "setting an array element with a sequence.",
     "output_type": "error",
     "traceback": [
      "\u001b[0;31m---------------------------------------------------------------------------\u001b[0m",
      "\u001b[0;31mTypeError\u001b[0m                                 Traceback (most recent call last)",
      "\u001b[0;31mTypeError\u001b[0m: float() argument must be a string or a real number, not 'tuple'",
      "\nThe above exception was the direct cause of the following exception:\n",
      "\u001b[0;31mValueError\u001b[0m                                Traceback (most recent call last)",
      "Cell \u001b[0;32mIn[21], line 15\u001b[0m\n\u001b[1;32m     12\u001b[0m     \u001b[38;5;28;01mreturn\u001b[39;00m combin\n\u001b[1;32m     14\u001b[0m get_ipython()\u001b[38;5;241m.\u001b[39mrun_line_magic(\u001b[38;5;124m'\u001b[39m\u001b[38;5;124mtimeit\u001b[39m\u001b[38;5;124m'\u001b[39m, \u001b[38;5;124m'\u001b[39m\u001b[38;5;124mf8()\u001b[39m\u001b[38;5;124m'\u001b[39m)\n\u001b[0;32m---> 15\u001b[0m \u001b[43mget_ipython\u001b[49m\u001b[43m(\u001b[49m\u001b[43m)\u001b[49m\u001b[38;5;241;43m.\u001b[39;49m\u001b[43mrun_line_magic\u001b[49m\u001b[43m(\u001b[49m\u001b[38;5;124;43m'\u001b[39;49m\u001b[38;5;124;43mtimeit\u001b[39;49m\u001b[38;5;124;43m'\u001b[39;49m\u001b[43m,\u001b[49m\u001b[43m \u001b[49m\u001b[38;5;124;43m'\u001b[39;49m\u001b[38;5;124;43mf9()\u001b[39;49m\u001b[38;5;124;43m'\u001b[39;49m\u001b[43m)\u001b[49m\n",
      "File \u001b[0;32m/usr/local/lib/python3.10/dist-packages/IPython/core/interactiveshell.py:2480\u001b[0m, in \u001b[0;36mInteractiveShell.run_line_magic\u001b[0;34m(self, magic_name, line, _stack_depth)\u001b[0m\n\u001b[1;32m   2478\u001b[0m     kwargs[\u001b[38;5;124m'\u001b[39m\u001b[38;5;124mlocal_ns\u001b[39m\u001b[38;5;124m'\u001b[39m] \u001b[38;5;241m=\u001b[39m \u001b[38;5;28mself\u001b[39m\u001b[38;5;241m.\u001b[39mget_local_scope(stack_depth)\n\u001b[1;32m   2479\u001b[0m \u001b[38;5;28;01mwith\u001b[39;00m \u001b[38;5;28mself\u001b[39m\u001b[38;5;241m.\u001b[39mbuiltin_trap:\n\u001b[0;32m-> 2480\u001b[0m     result \u001b[38;5;241m=\u001b[39m \u001b[43mfn\u001b[49m\u001b[43m(\u001b[49m\u001b[38;5;241;43m*\u001b[39;49m\u001b[43margs\u001b[49m\u001b[43m,\u001b[49m\u001b[43m \u001b[49m\u001b[38;5;241;43m*\u001b[39;49m\u001b[38;5;241;43m*\u001b[39;49m\u001b[43mkwargs\u001b[49m\u001b[43m)\u001b[49m\n\u001b[1;32m   2482\u001b[0m \u001b[38;5;66;03m# The code below prevents the output from being displayed\u001b[39;00m\n\u001b[1;32m   2483\u001b[0m \u001b[38;5;66;03m# when using magics with decorator @output_can_be_silenced\u001b[39;00m\n\u001b[1;32m   2484\u001b[0m \u001b[38;5;66;03m# when the last Python token in the expression is a ';'.\u001b[39;00m\n\u001b[1;32m   2485\u001b[0m \u001b[38;5;28;01mif\u001b[39;00m \u001b[38;5;28mgetattr\u001b[39m(fn, magic\u001b[38;5;241m.\u001b[39mMAGIC_OUTPUT_CAN_BE_SILENCED, \u001b[38;5;28;01mFalse\u001b[39;00m):\n",
      "File \u001b[0;32m/usr/local/lib/python3.10/dist-packages/IPython/core/magics/execution.py:1185\u001b[0m, in \u001b[0;36mExecutionMagics.timeit\u001b[0;34m(self, line, cell, local_ns)\u001b[0m\n\u001b[1;32m   1183\u001b[0m \u001b[38;5;28;01mfor\u001b[39;00m index \u001b[38;5;129;01min\u001b[39;00m \u001b[38;5;28mrange\u001b[39m(\u001b[38;5;241m0\u001b[39m, \u001b[38;5;241m10\u001b[39m):\n\u001b[1;32m   1184\u001b[0m     number \u001b[38;5;241m=\u001b[39m \u001b[38;5;241m10\u001b[39m \u001b[38;5;241m*\u001b[39m\u001b[38;5;241m*\u001b[39m index\n\u001b[0;32m-> 1185\u001b[0m     time_number \u001b[38;5;241m=\u001b[39m \u001b[43mtimer\u001b[49m\u001b[38;5;241;43m.\u001b[39;49m\u001b[43mtimeit\u001b[49m\u001b[43m(\u001b[49m\u001b[43mnumber\u001b[49m\u001b[43m)\u001b[49m\n\u001b[1;32m   1186\u001b[0m     \u001b[38;5;28;01mif\u001b[39;00m time_number \u001b[38;5;241m>\u001b[39m\u001b[38;5;241m=\u001b[39m \u001b[38;5;241m0.2\u001b[39m:\n\u001b[1;32m   1187\u001b[0m         \u001b[38;5;28;01mbreak\u001b[39;00m\n",
      "File \u001b[0;32m/usr/local/lib/python3.10/dist-packages/IPython/core/magics/execution.py:173\u001b[0m, in \u001b[0;36mTimer.timeit\u001b[0;34m(self, number)\u001b[0m\n\u001b[1;32m    171\u001b[0m gc\u001b[38;5;241m.\u001b[39mdisable()\n\u001b[1;32m    172\u001b[0m \u001b[38;5;28;01mtry\u001b[39;00m:\n\u001b[0;32m--> 173\u001b[0m     timing \u001b[38;5;241m=\u001b[39m \u001b[38;5;28;43mself\u001b[39;49m\u001b[38;5;241;43m.\u001b[39;49m\u001b[43minner\u001b[49m\u001b[43m(\u001b[49m\u001b[43mit\u001b[49m\u001b[43m,\u001b[49m\u001b[43m \u001b[49m\u001b[38;5;28;43mself\u001b[39;49m\u001b[38;5;241;43m.\u001b[39;49m\u001b[43mtimer\u001b[49m\u001b[43m)\u001b[49m\n\u001b[1;32m    174\u001b[0m \u001b[38;5;28;01mfinally\u001b[39;00m:\n\u001b[1;32m    175\u001b[0m     \u001b[38;5;28;01mif\u001b[39;00m gcold:\n",
      "File \u001b[0;32m<magic-timeit>:1\u001b[0m, in \u001b[0;36minner\u001b[0;34m(_it, _timer)\u001b[0m\n",
      "Cell \u001b[0;32mIn[21], line 11\u001b[0m, in \u001b[0;36mf9\u001b[0;34m()\u001b[0m\n\u001b[1;32m      9\u001b[0m \u001b[38;5;28;01mdef\u001b[39;00m \u001b[38;5;21mf9\u001b[39m():\n\u001b[1;32m     10\u001b[0m     loc \u001b[38;5;241m=\u001b[39m np\u001b[38;5;241m.\u001b[39mrandom\u001b[38;5;241m.\u001b[39mrand(N, \u001b[38;5;241m3\u001b[39m)\n\u001b[0;32m---> 11\u001b[0m     combin \u001b[38;5;241m=\u001b[39m \u001b[43mnp\u001b[49m\u001b[38;5;241;43m.\u001b[39;49m\u001b[43mfromiter\u001b[49m\u001b[43m(\u001b[49m\u001b[43mpermutations\u001b[49m\u001b[43m(\u001b[49m\u001b[43mloc\u001b[49m\u001b[43m,\u001b[49m\u001b[43m \u001b[49m\u001b[38;5;241;43m4\u001b[39;49m\u001b[43m)\u001b[49m\u001b[43m,\u001b[49m\u001b[43m \u001b[49m\u001b[43mdtype\u001b[49m\u001b[38;5;241;43m=\u001b[39;49m\u001b[43mnp\u001b[49m\u001b[38;5;241;43m.\u001b[39;49m\u001b[43mfloat64\u001b[49m\u001b[43m)\u001b[49m\n\u001b[1;32m     12\u001b[0m     \u001b[38;5;28;01mreturn\u001b[39;00m combin\n",
      "\u001b[0;31mValueError\u001b[0m: setting an array element with a sequence."
     ]
    }
   ],
   "source": [
    "from itertools import permutations\n",
    "N = 10\n",
    "\n",
    "def f8():\n",
    "    loc = np.random.rand(N, 3)\n",
    "    combin = np.array(list(permutations(loc, 4)))\n",
    "    return combin\n",
    "\n",
    "def f9():\n",
    "    loc = np.random.rand(N, 3)\n",
    "    combin = np.fromiter(permutations(loc, 4), dtype=np.float64)\n",
    "    return combin\n",
    "\n",
    "%timeit f8()\n",
    "%timeit f9()"
   ]
  },
  {
   "cell_type": "code",
   "execution_count": 32,
   "metadata": {},
   "outputs": [
    {
     "name": "stdout",
     "output_type": "stream",
     "text": [
      "(5040, 4, 3)\n"
     ]
    }
   ],
   "source": [
    "id = np.random.randint(0, N, size=(N))\n",
    "loc = np.random.rand(N, 3)\n",
    "combin = np.array(list(permutations(id, 4)))\n",
    "combin.shape\n",
    "\n",
    "loc_feet = loc[combin]\n",
    "print(loc_feet.shape)"
   ]
  },
  {
   "cell_type": "code",
   "execution_count": 38,
   "metadata": {},
   "outputs": [],
   "source": [
    "m = np.argmin(loc)"
   ]
  },
  {
   "cell_type": "code",
   "execution_count": 51,
   "metadata": {},
   "outputs": [
    {
     "name": "stdout",
     "output_type": "stream",
     "text": [
      "[[[0.58284866 0.73344723 0.51561825]\n",
      "  [0.58284866 0.73344723 0.51561825]\n",
      "  [0.58284866 0.73344723 0.51561825]\n",
      "  [0.58284866 0.73344723 0.51561825]]\n",
      "\n",
      " [[0.6800672  0.06177429 0.96878486]\n",
      "  [0.6800672  0.06177429 0.96878486]\n",
      "  [0.6800672  0.06177429 0.96878486]\n",
      "  [0.6800672  0.06177429 0.96878486]]]\n",
      "[[[0.58284866 0.73344723 0.51561825]\n",
      "  [0.58284866 0.73344723 0.51561825]\n",
      "  [0.58284866 0.73344723 0.51561825]\n",
      "  [0.58284866 0.73344723 0.51561825]]\n",
      "\n",
      " [[0.58284866 0.73344723 0.51561825]\n",
      "  [0.58284866 0.73344723 0.51561825]\n",
      "  [0.58284866 0.73344723 0.51561825]\n",
      "  [0.58284866 0.73344723 0.51561825]]\n",
      "\n",
      " [[0.6800672  0.06177429 0.96878486]\n",
      "  [0.6800672  0.06177429 0.96878486]\n",
      "  [0.6800672  0.06177429 0.96878486]\n",
      "  [0.6800672  0.06177429 0.96878486]]\n",
      "\n",
      " [[0.6800672  0.06177429 0.96878486]\n",
      "  [0.6800672  0.06177429 0.96878486]\n",
      "  [0.6800672  0.06177429 0.96878486]\n",
      "  [0.6800672  0.06177429 0.96878486]]]\n"
     ]
    }
   ],
   "source": [
    "loc = np.random.rand(N, 3)\n",
    "\n",
    "contact_plan = np.array([\n",
    "    [1, 1, 1, 1],\n",
    "    [2, 2, 2, 2],\n",
    "])\n",
    "\n",
    "contact_plan_loc = loc[contact_plan]\n",
    "\n",
    "print(contact_plan_loc)\n",
    "full_contact_plan = np.repeat(contact_plan_loc, 2, axis=0)\n",
    "print(full_contact_plan)"
   ]
  },
  {
   "cell_type": "code",
   "execution_count": 5,
   "metadata": {},
   "outputs": [
    {
     "name": "stdout",
     "output_type": "stream",
     "text": [
      "83.1 µs ± 671 ns per loop (mean ± std. dev. of 7 runs, 10,000 loops each)\n",
      "68.1 µs ± 196 ns per loop (mean ± std. dev. of 7 runs, 10,000 loops each)\n"
     ]
    }
   ],
   "source": [
    "from operator import itemgetter\n",
    "N = 2000\n",
    "\n",
    "def argmax1():\n",
    "    h = np.random.rand(N).tolist()\n",
    "    index, _ = max(enumerate(h), key=itemgetter(1))\n",
    "    \n",
    "    return index\n",
    "\n",
    "def argmax2():\n",
    "    h = np.random.rand(N).tolist()\n",
    "    index = np.argmax(h)\n",
    "    \n",
    "    return index\n",
    "\n",
    "%timeit argmax1()\n",
    "%timeit argmax2()"
   ]
  },
  {
   "cell_type": "code",
   "execution_count": null,
   "metadata": {},
   "outputs": [],
   "source": []
  }
 ],
 "metadata": {
  "kernelspec": {
   "display_name": "Python 3",
   "language": "python",
   "name": "python3"
  },
  "language_info": {
   "codemirror_mode": {
    "name": "ipython",
    "version": 3
   },
   "file_extension": ".py",
   "mimetype": "text/x-python",
   "name": "python",
   "nbconvert_exporter": "python",
   "pygments_lexer": "ipython3",
   "version": "3.10.12"
  }
 },
 "nbformat": 4,
 "nbformat_minor": 2
}
