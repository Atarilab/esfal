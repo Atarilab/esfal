{
 "cells": [
  {
   "cell_type": "code",
   "execution_count": 7,
   "metadata": {},
   "outputs": [
    {
     "data": {
      "text/plain": [
       "False"
      ]
     },
     "execution_count": 7,
     "metadata": {},
     "output_type": "execute_result"
    }
   ],
   "source": [
    "DATA_PATH = \"/home/atari_ws/data/learning_jump_feasibility/train/data.npz\"\n",
    "\n",
    "from data.dataset_supervised import DatasetFactory\n",
    "from utils.config import Config\n",
    "\n",
    "\n",
    "cfg = Config(\"config/classifierBinary.yml\")\n",
    "cfg.change_value(\"data_path\", DATA_PATH)"
   ]
  },
  {
   "cell_type": "code",
   "execution_count": 9,
   "metadata": {},
   "outputs": [],
   "source": [
    "data_cfg = {\n",
    "    'binary': cfg.data['binary'],\n",
    "    'noise_std': cfg.data['noise_std'],\n",
    "    'exclude': cfg.data['exclude'],\n",
    "    'data_path': cfg.data['data_path'],\n",
    "    }\n",
    "\n",
    "train_dataset = DatasetFactory.get(\"classifier\", data_cfg)"
   ]
  },
  {
   "cell_type": "code",
   "execution_count": 10,
   "metadata": {},
   "outputs": [
    {
     "data": {
      "text/plain": [
       "111267"
      ]
     },
     "execution_count": 10,
     "metadata": {},
     "output_type": "execute_result"
    }
   ],
   "source": [
    "len(train_dataset)"
   ]
  },
  {
   "cell_type": "code",
   "execution_count": 20,
   "metadata": {},
   "outputs": [
    {
     "name": "stdout",
     "output_type": "stream",
     "text": [
      "Positive:  49363 , Percentage:  81.82164760484004 %\n",
      "Negative:  10967 , Percentage:  18.17835239515995 %\n"
     ]
    }
   ],
   "source": [
    "num_pos, num_neg = 0, 0\n",
    "for i in range(len(train_dataset)):\n",
    "    label = train_dataset[i]['target'][0]\n",
    "    \n",
    "    if label == 1:\n",
    "        num_pos += 1\n",
    "    elif label == 0:\n",
    "        num_neg += 1\n",
    "        \n",
    "print(\"Positive: \", num_pos, \", Percentage: \", num_pos / (num_pos + num_neg) * 100, \"%\")\n",
    "print(\"Negative: \", num_neg, \", Percentage: \", num_neg / (num_pos + num_neg) * 100, \"%\")"
   ]
  }
 ],
 "metadata": {
  "kernelspec": {
   "display_name": "Python 3",
   "language": "python",
   "name": "python3"
  },
  "language_info": {
   "codemirror_mode": {
    "name": "ipython",
    "version": 3
   },
   "file_extension": ".py",
   "mimetype": "text/x-python",
   "name": "python",
   "nbconvert_exporter": "python",
   "pygments_lexer": "ipython3",
   "version": "3.10.12"
  }
 },
 "nbformat": 4,
 "nbformat_minor": 2
}
